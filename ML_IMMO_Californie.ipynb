{
 "cells": [
  {
   "cell_type": "markdown",
   "id": "9d01d53f-0be4-4297-aed2-7c18b6db01b5",
   "metadata": {},
   "source": [
    "# ML Immobilier - Californie\n",
    "# 1. Cerner le problème et rechercher une vision d'ensemble\n",
    "## - Définir l'objectit professionnel\n",
    "- **Objectif :** Obtenir une prédiction médian des habitations dans un district + signaux, servira à alimenter un autre sytème de ML --> Déterminer s'il est intéressant ou non d'investir dans un district donné.\n",
    "- **Problème :** Apprentissage supervisé - Régression - hors ligne\n",
    "- **Metrics :** RMSE \n"
   ]
  },
  {
   "cell_type": "markdown",
   "id": "917a92d6-c296-400e-911a-908432ecab43",
   "metadata": {},
   "source": [
    "## 2. Récupérer les données"
   ]
  },
  {
   "cell_type": "code",
   "execution_count": 1,
   "id": "ee947959-e278-4fea-b863-8c2efbe5a83b",
   "metadata": {},
   "outputs": [
    {
     "data": {
      "text/plain": [
       "'/Users/mouloud/Documents/Data_Scientist/Covid_19'"
      ]
     },
     "execution_count": 1,
     "metadata": {},
     "output_type": "execute_result"
    }
   ],
   "source": [
    "pwd"
   ]
  },
  {
   "cell_type": "code",
   "execution_count": 5,
   "id": "21f38366-e7ec-4067-925c-7442af13488a",
   "metadata": {},
   "outputs": [],
   "source": [
    "from pathlib import Path\n",
    "import pandas as pd\n",
    "import tarfile\n",
    "import urllib.request"
   ]
  },
  {
   "cell_type": "code",
   "execution_count": 7,
   "id": "8f81621c-6654-4ff7-868e-dff89096764d",
   "metadata": {},
   "outputs": [],
   "source": [
    "def load_housing_data():\n",
    "    tarball_path = Path(\"datasets/housing.tgz\")\n",
    "    \n",
    "    if not tarball_path.is_file():\n",
    "        Path(\"datasets\").mkdir(parents=True, exist_ok=True)\n",
    "        url = \"https://github.com/ageron/data/raw/main/housing.tgz\"\n",
    "        urllib.request.urlretrieve(url, tarball_path)\n",
    "        \n",
    "        with tarfile.open(tarball_path) as housing_tarball:\n",
    "            housing_tarball.extractall(path=\"datasets\")\n",
    "            \n",
    "    return pd.read_csv(Path(\"datasets/housing/housing.csv\"))"
   ]
  },
  {
   "cell_type": "code",
   "execution_count": 11,
   "id": "579c05db-48bd-4aca-be27-72b4e25a83a2",
   "metadata": {},
   "outputs": [
    {
     "name": "stdout",
     "output_type": "stream",
     "text": [
      "Covid_19.ipynb                     Untitled.ipynb\n",
      "Description_features.txt           Untitled1.ipynb\n",
      "ML_IMMO_Californie.ipynb           \u001b[1m\u001b[36manaconda_projects\u001b[m\u001b[m/\n",
      "Sans titre.txt.sb-35723a4b-S1gLzK  dataset.xlsx\n"
     ]
    }
   ],
   "source": [
    "ls"
   ]
  },
  {
   "cell_type": "code",
   "execution_count": null,
   "id": "79ea6626-68cc-4779-9a5b-7ecc5b795ba0",
   "metadata": {},
   "outputs": [],
   "source": [
    "ls"
   ]
  }
 ],
 "metadata": {
  "kernelspec": {
   "display_name": "Python [conda env:base] *",
   "language": "python",
   "name": "conda-base-py"
  },
  "language_info": {
   "codemirror_mode": {
    "name": "ipython",
    "version": 3
   },
   "file_extension": ".py",
   "mimetype": "text/x-python",
   "name": "python",
   "nbconvert_exporter": "python",
   "pygments_lexer": "ipython3",
   "version": "3.12.7"
  }
 },
 "nbformat": 4,
 "nbformat_minor": 5
}
